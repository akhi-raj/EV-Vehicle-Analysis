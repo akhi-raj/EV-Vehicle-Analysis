{
 "cells": [
  {
   "cell_type": "code",
   "execution_count": 6,
   "id": "87a3b86a-67e0-4841-a36c-2a80274a2f61",
   "metadata": {},
   "outputs": [],
   "source": [
    "import pandas as pd\n",
    "import numpy as np\n",
    "import matplotlib.pyplot as plt\n",
    "import seaborn as sns"
   ]
  },
  {
   "cell_type": "code",
   "execution_count": 7,
   "id": "e0088f7c-8f2b-4869-8f4b-3645756cfd7a",
   "metadata": {},
   "outputs": [],
   "source": [
    "df = pd.read_csv(r\"C:\\Users\\Admin\\Downloads\\ev\\EV-Vehicle-Analysis-\\Electric_Vehicle_Population_Data.csv\")"
   ]
  },
  {
   "cell_type": "code",
   "execution_count": 8,
   "id": "ddadba20-d8a9-4f51-9c34-48b5bbe0562a",
   "metadata": {},
   "outputs": [
    {
     "data": {
      "text/html": [
       "<div>\n",
       "<style scoped>\n",
       "    .dataframe tbody tr th:only-of-type {\n",
       "        vertical-align: middle;\n",
       "    }\n",
       "\n",
       "    .dataframe tbody tr th {\n",
       "        vertical-align: top;\n",
       "    }\n",
       "\n",
       "    .dataframe thead th {\n",
       "        text-align: right;\n",
       "    }\n",
       "</style>\n",
       "<table border=\"1\" class=\"dataframe\">\n",
       "  <thead>\n",
       "    <tr style=\"text-align: right;\">\n",
       "      <th></th>\n",
       "      <th>VIN (1-10)</th>\n",
       "      <th>County</th>\n",
       "      <th>City</th>\n",
       "      <th>State</th>\n",
       "      <th>Postal Code</th>\n",
       "      <th>Model Year</th>\n",
       "      <th>Make</th>\n",
       "      <th>Model</th>\n",
       "      <th>Electric Vehicle Type</th>\n",
       "      <th>Clean Alternative Fuel Vehicle (CAFV) Eligibility</th>\n",
       "      <th>Electric Range</th>\n",
       "      <th>Base MSRP</th>\n",
       "      <th>Legislative District</th>\n",
       "      <th>DOL Vehicle ID</th>\n",
       "      <th>Vehicle Location</th>\n",
       "      <th>Electric Utility</th>\n",
       "      <th>2020 Census Tract</th>\n",
       "    </tr>\n",
       "  </thead>\n",
       "  <tbody>\n",
       "    <tr>\n",
       "      <th>0</th>\n",
       "      <td>5YJ3E1EBXK</td>\n",
       "      <td>King</td>\n",
       "      <td>Seattle</td>\n",
       "      <td>WA</td>\n",
       "      <td>98178.0</td>\n",
       "      <td>2019</td>\n",
       "      <td>TESLA</td>\n",
       "      <td>MODEL 3</td>\n",
       "      <td>Battery Electric Vehicle (BEV)</td>\n",
       "      <td>Clean Alternative Fuel Vehicle Eligible</td>\n",
       "      <td>220.0</td>\n",
       "      <td>0.0</td>\n",
       "      <td>37.0</td>\n",
       "      <td>477309682</td>\n",
       "      <td>POINT (-122.23825 47.49461)</td>\n",
       "      <td>CITY OF SEATTLE - (WA)|CITY OF TACOMA - (WA)</td>\n",
       "      <td>5.303301e+10</td>\n",
       "    </tr>\n",
       "    <tr>\n",
       "      <th>1</th>\n",
       "      <td>5YJYGDEE3L</td>\n",
       "      <td>Kitsap</td>\n",
       "      <td>Poulsbo</td>\n",
       "      <td>WA</td>\n",
       "      <td>98370.0</td>\n",
       "      <td>2020</td>\n",
       "      <td>TESLA</td>\n",
       "      <td>MODEL Y</td>\n",
       "      <td>Battery Electric Vehicle (BEV)</td>\n",
       "      <td>Clean Alternative Fuel Vehicle Eligible</td>\n",
       "      <td>291.0</td>\n",
       "      <td>0.0</td>\n",
       "      <td>23.0</td>\n",
       "      <td>109705683</td>\n",
       "      <td>POINT (-122.64681 47.73689)</td>\n",
       "      <td>PUGET SOUND ENERGY INC</td>\n",
       "      <td>5.303509e+10</td>\n",
       "    </tr>\n",
       "    <tr>\n",
       "      <th>2</th>\n",
       "      <td>KM8KRDAF5P</td>\n",
       "      <td>Kitsap</td>\n",
       "      <td>Olalla</td>\n",
       "      <td>WA</td>\n",
       "      <td>98359.0</td>\n",
       "      <td>2023</td>\n",
       "      <td>HYUNDAI</td>\n",
       "      <td>IONIQ 5</td>\n",
       "      <td>Battery Electric Vehicle (BEV)</td>\n",
       "      <td>Eligibility unknown as battery range has not b...</td>\n",
       "      <td>0.0</td>\n",
       "      <td>0.0</td>\n",
       "      <td>26.0</td>\n",
       "      <td>230390492</td>\n",
       "      <td>POINT (-122.54729 47.42602)</td>\n",
       "      <td>PUGET SOUND ENERGY INC</td>\n",
       "      <td>5.303509e+10</td>\n",
       "    </tr>\n",
       "    <tr>\n",
       "      <th>3</th>\n",
       "      <td>5UXTA6C0XM</td>\n",
       "      <td>Kitsap</td>\n",
       "      <td>Seabeck</td>\n",
       "      <td>WA</td>\n",
       "      <td>98380.0</td>\n",
       "      <td>2021</td>\n",
       "      <td>BMW</td>\n",
       "      <td>X5</td>\n",
       "      <td>Plug-in Hybrid Electric Vehicle (PHEV)</td>\n",
       "      <td>Clean Alternative Fuel Vehicle Eligible</td>\n",
       "      <td>30.0</td>\n",
       "      <td>0.0</td>\n",
       "      <td>35.0</td>\n",
       "      <td>267929112</td>\n",
       "      <td>POINT (-122.81585 47.64509)</td>\n",
       "      <td>PUGET SOUND ENERGY INC</td>\n",
       "      <td>5.303509e+10</td>\n",
       "    </tr>\n",
       "    <tr>\n",
       "      <th>4</th>\n",
       "      <td>JTMAB3FV7P</td>\n",
       "      <td>Thurston</td>\n",
       "      <td>Rainier</td>\n",
       "      <td>WA</td>\n",
       "      <td>98576.0</td>\n",
       "      <td>2023</td>\n",
       "      <td>TOYOTA</td>\n",
       "      <td>RAV4 PRIME</td>\n",
       "      <td>Plug-in Hybrid Electric Vehicle (PHEV)</td>\n",
       "      <td>Clean Alternative Fuel Vehicle Eligible</td>\n",
       "      <td>42.0</td>\n",
       "      <td>0.0</td>\n",
       "      <td>2.0</td>\n",
       "      <td>236505139</td>\n",
       "      <td>POINT (-122.68993 46.88897)</td>\n",
       "      <td>PUGET SOUND ENERGY INC</td>\n",
       "      <td>5.306701e+10</td>\n",
       "    </tr>\n",
       "  </tbody>\n",
       "</table>\n",
       "</div>"
      ],
      "text/plain": [
       "   VIN (1-10)    County     City State  Postal Code  Model Year     Make  \\\n",
       "0  5YJ3E1EBXK      King  Seattle    WA      98178.0        2019    TESLA   \n",
       "1  5YJYGDEE3L    Kitsap  Poulsbo    WA      98370.0        2020    TESLA   \n",
       "2  KM8KRDAF5P    Kitsap   Olalla    WA      98359.0        2023  HYUNDAI   \n",
       "3  5UXTA6C0XM    Kitsap  Seabeck    WA      98380.0        2021      BMW   \n",
       "4  JTMAB3FV7P  Thurston  Rainier    WA      98576.0        2023   TOYOTA   \n",
       "\n",
       "        Model                   Electric Vehicle Type  \\\n",
       "0     MODEL 3          Battery Electric Vehicle (BEV)   \n",
       "1     MODEL Y          Battery Electric Vehicle (BEV)   \n",
       "2     IONIQ 5          Battery Electric Vehicle (BEV)   \n",
       "3          X5  Plug-in Hybrid Electric Vehicle (PHEV)   \n",
       "4  RAV4 PRIME  Plug-in Hybrid Electric Vehicle (PHEV)   \n",
       "\n",
       "   Clean Alternative Fuel Vehicle (CAFV) Eligibility  Electric Range  \\\n",
       "0            Clean Alternative Fuel Vehicle Eligible           220.0   \n",
       "1            Clean Alternative Fuel Vehicle Eligible           291.0   \n",
       "2  Eligibility unknown as battery range has not b...             0.0   \n",
       "3            Clean Alternative Fuel Vehicle Eligible            30.0   \n",
       "4            Clean Alternative Fuel Vehicle Eligible            42.0   \n",
       "\n",
       "   Base MSRP  Legislative District  DOL Vehicle ID  \\\n",
       "0        0.0                  37.0       477309682   \n",
       "1        0.0                  23.0       109705683   \n",
       "2        0.0                  26.0       230390492   \n",
       "3        0.0                  35.0       267929112   \n",
       "4        0.0                   2.0       236505139   \n",
       "\n",
       "              Vehicle Location                              Electric Utility  \\\n",
       "0  POINT (-122.23825 47.49461)  CITY OF SEATTLE - (WA)|CITY OF TACOMA - (WA)   \n",
       "1  POINT (-122.64681 47.73689)                        PUGET SOUND ENERGY INC   \n",
       "2  POINT (-122.54729 47.42602)                        PUGET SOUND ENERGY INC   \n",
       "3  POINT (-122.81585 47.64509)                        PUGET SOUND ENERGY INC   \n",
       "4  POINT (-122.68993 46.88897)                        PUGET SOUND ENERGY INC   \n",
       "\n",
       "   2020 Census Tract  \n",
       "0       5.303301e+10  \n",
       "1       5.303509e+10  \n",
       "2       5.303509e+10  \n",
       "3       5.303509e+10  \n",
       "4       5.306701e+10  "
      ]
     },
     "execution_count": 8,
     "metadata": {},
     "output_type": "execute_result"
    }
   ],
   "source": [
    "df.head()"
   ]
  },
  {
   "cell_type": "code",
   "execution_count": 9,
   "id": "8db419ec-e604-4a72-a4e9-fde3274fd560",
   "metadata": {},
   "outputs": [
    {
     "name": "stdout",
     "output_type": "stream",
     "text": [
      "<class 'pandas.core.frame.DataFrame'>\n",
      "RangeIndex: 235692 entries, 0 to 235691\n",
      "Data columns (total 17 columns):\n",
      " #   Column                                             Non-Null Count   Dtype  \n",
      "---  ------                                             --------------   -----  \n",
      " 0   VIN (1-10)                                         235692 non-null  object \n",
      " 1   County                                             235689 non-null  object \n",
      " 2   City                                               235689 non-null  object \n",
      " 3   State                                              235692 non-null  object \n",
      " 4   Postal Code                                        235689 non-null  float64\n",
      " 5   Model Year                                         235692 non-null  int64  \n",
      " 6   Make                                               235692 non-null  object \n",
      " 7   Model                                              235692 non-null  object \n",
      " 8   Electric Vehicle Type                              235692 non-null  object \n",
      " 9   Clean Alternative Fuel Vehicle (CAFV) Eligibility  235692 non-null  object \n",
      " 10  Electric Range                                     235656 non-null  float64\n",
      " 11  Base MSRP                                          235656 non-null  float64\n",
      " 12  Legislative District                               235198 non-null  float64\n",
      " 13  DOL Vehicle ID                                     235692 non-null  int64  \n",
      " 14  Vehicle Location                                   235682 non-null  object \n",
      " 15  Electric Utility                                   235689 non-null  object \n",
      " 16  2020 Census Tract                                  235689 non-null  float64\n",
      "dtypes: float64(5), int64(2), object(10)\n",
      "memory usage: 30.6+ MB\n"
     ]
    }
   ],
   "source": [
    "df.info()"
   ]
  },
  {
   "cell_type": "code",
   "execution_count": 10,
   "id": "7db69539-f7b7-4e6b-972b-dc658c3df8dc",
   "metadata": {},
   "outputs": [
    {
     "data": {
      "text/html": [
       "<div>\n",
       "<style scoped>\n",
       "    .dataframe tbody tr th:only-of-type {\n",
       "        vertical-align: middle;\n",
       "    }\n",
       "\n",
       "    .dataframe tbody tr th {\n",
       "        vertical-align: top;\n",
       "    }\n",
       "\n",
       "    .dataframe thead th {\n",
       "        text-align: right;\n",
       "    }\n",
       "</style>\n",
       "<table border=\"1\" class=\"dataframe\">\n",
       "  <thead>\n",
       "    <tr style=\"text-align: right;\">\n",
       "      <th></th>\n",
       "      <th>Postal Code</th>\n",
       "      <th>Model Year</th>\n",
       "      <th>Electric Range</th>\n",
       "      <th>Base MSRP</th>\n",
       "      <th>Legislative District</th>\n",
       "      <th>DOL Vehicle ID</th>\n",
       "      <th>2020 Census Tract</th>\n",
       "    </tr>\n",
       "  </thead>\n",
       "  <tbody>\n",
       "    <tr>\n",
       "      <th>count</th>\n",
       "      <td>235689.000000</td>\n",
       "      <td>235692.000000</td>\n",
       "      <td>235656.000000</td>\n",
       "      <td>235656.000000</td>\n",
       "      <td>235198.000000</td>\n",
       "      <td>2.356920e+05</td>\n",
       "      <td>2.356890e+05</td>\n",
       "    </tr>\n",
       "    <tr>\n",
       "      <th>mean</th>\n",
       "      <td>98177.656463</td>\n",
       "      <td>2021.406658</td>\n",
       "      <td>46.262569</td>\n",
       "      <td>787.268328</td>\n",
       "      <td>28.879519</td>\n",
       "      <td>2.353127e+08</td>\n",
       "      <td>5.298066e+10</td>\n",
       "    </tr>\n",
       "    <tr>\n",
       "      <th>std</th>\n",
       "      <td>2524.218661</td>\n",
       "      <td>2.991908</td>\n",
       "      <td>84.045829</td>\n",
       "      <td>7177.668305</td>\n",
       "      <td>14.904644</td>\n",
       "      <td>6.799098e+07</td>\n",
       "      <td>1.521066e+09</td>\n",
       "    </tr>\n",
       "    <tr>\n",
       "      <th>min</th>\n",
       "      <td>1731.000000</td>\n",
       "      <td>2000.000000</td>\n",
       "      <td>0.000000</td>\n",
       "      <td>0.000000</td>\n",
       "      <td>1.000000</td>\n",
       "      <td>4.385000e+03</td>\n",
       "      <td>1.001020e+09</td>\n",
       "    </tr>\n",
       "    <tr>\n",
       "      <th>25%</th>\n",
       "      <td>98052.000000</td>\n",
       "      <td>2020.000000</td>\n",
       "      <td>0.000000</td>\n",
       "      <td>0.000000</td>\n",
       "      <td>17.000000</td>\n",
       "      <td>2.053457e+08</td>\n",
       "      <td>5.303301e+10</td>\n",
       "    </tr>\n",
       "    <tr>\n",
       "      <th>50%</th>\n",
       "      <td>98126.000000</td>\n",
       "      <td>2023.000000</td>\n",
       "      <td>0.000000</td>\n",
       "      <td>0.000000</td>\n",
       "      <td>32.000000</td>\n",
       "      <td>2.522795e+08</td>\n",
       "      <td>5.303303e+10</td>\n",
       "    </tr>\n",
       "    <tr>\n",
       "      <th>75%</th>\n",
       "      <td>98374.000000</td>\n",
       "      <td>2024.000000</td>\n",
       "      <td>38.000000</td>\n",
       "      <td>0.000000</td>\n",
       "      <td>42.000000</td>\n",
       "      <td>2.696401e+08</td>\n",
       "      <td>5.305307e+10</td>\n",
       "    </tr>\n",
       "    <tr>\n",
       "      <th>max</th>\n",
       "      <td>99577.000000</td>\n",
       "      <td>2025.000000</td>\n",
       "      <td>337.000000</td>\n",
       "      <td>845000.000000</td>\n",
       "      <td>49.000000</td>\n",
       "      <td>4.792548e+08</td>\n",
       "      <td>5.602100e+10</td>\n",
       "    </tr>\n",
       "  </tbody>\n",
       "</table>\n",
       "</div>"
      ],
      "text/plain": [
       "         Postal Code     Model Year  Electric Range      Base MSRP  \\\n",
       "count  235689.000000  235692.000000   235656.000000  235656.000000   \n",
       "mean    98177.656463    2021.406658       46.262569     787.268328   \n",
       "std      2524.218661       2.991908       84.045829    7177.668305   \n",
       "min      1731.000000    2000.000000        0.000000       0.000000   \n",
       "25%     98052.000000    2020.000000        0.000000       0.000000   \n",
       "50%     98126.000000    2023.000000        0.000000       0.000000   \n",
       "75%     98374.000000    2024.000000       38.000000       0.000000   \n",
       "max     99577.000000    2025.000000      337.000000  845000.000000   \n",
       "\n",
       "       Legislative District  DOL Vehicle ID  2020 Census Tract  \n",
       "count         235198.000000    2.356920e+05       2.356890e+05  \n",
       "mean              28.879519    2.353127e+08       5.298066e+10  \n",
       "std               14.904644    6.799098e+07       1.521066e+09  \n",
       "min                1.000000    4.385000e+03       1.001020e+09  \n",
       "25%               17.000000    2.053457e+08       5.303301e+10  \n",
       "50%               32.000000    2.522795e+08       5.303303e+10  \n",
       "75%               42.000000    2.696401e+08       5.305307e+10  \n",
       "max               49.000000    4.792548e+08       5.602100e+10  "
      ]
     },
     "execution_count": 10,
     "metadata": {},
     "output_type": "execute_result"
    }
   ],
   "source": [
    "df.describe()"
   ]
  },
  {
   "cell_type": "code",
   "execution_count": 11,
   "id": "7785f122-4aa7-4a2e-9d24-639594a84436",
   "metadata": {},
   "outputs": [
    {
     "data": {
      "text/plain": [
       "VIN (1-10)                                             0\n",
       "County                                                 3\n",
       "City                                                   3\n",
       "State                                                  0\n",
       "Postal Code                                            3\n",
       "Model Year                                             0\n",
       "Make                                                   0\n",
       "Model                                                  0\n",
       "Electric Vehicle Type                                  0\n",
       "Clean Alternative Fuel Vehicle (CAFV) Eligibility      0\n",
       "Electric Range                                        36\n",
       "Base MSRP                                             36\n",
       "Legislative District                                 494\n",
       "DOL Vehicle ID                                         0\n",
       "Vehicle Location                                      10\n",
       "Electric Utility                                       3\n",
       "2020 Census Tract                                      3\n",
       "dtype: int64"
      ]
     },
     "execution_count": 11,
     "metadata": {},
     "output_type": "execute_result"
    }
   ],
   "source": [
    "df.isna().sum()"
   ]
  },
  {
   "cell_type": "code",
   "execution_count": 12,
   "id": "de3414cf-db64-48b7-96d7-eb3a5e26afda",
   "metadata": {},
   "outputs": [],
   "source": [
    "df.drop(columns=['Legislative District'], inplace=True)"
   ]
  },
  {
   "cell_type": "code",
   "execution_count": 13,
   "id": "2104a19b-f8cf-4141-917c-731d468fa7f2",
   "metadata": {},
   "outputs": [],
   "source": [
    "df.dropna(subset=['County', 'City', 'Postal Code',\n",
    "                  'Vehicle Location', 'Electric Utility',\n",
    "                  '2020 Census Tract'],\n",
    "          inplace=True)"
   ]
  },
  {
   "cell_type": "code",
   "execution_count": 14,
   "id": "c319ffb8-ae19-4abb-826b-53ed12beae05",
   "metadata": {},
   "outputs": [
    {
     "data": {
      "text/plain": [
       "VIN (1-10)                                            0\n",
       "County                                                0\n",
       "City                                                  0\n",
       "State                                                 0\n",
       "Postal Code                                           0\n",
       "Model Year                                            0\n",
       "Make                                                  0\n",
       "Model                                                 0\n",
       "Electric Vehicle Type                                 0\n",
       "Clean Alternative Fuel Vehicle (CAFV) Eligibility     0\n",
       "Electric Range                                       36\n",
       "Base MSRP                                            36\n",
       "DOL Vehicle ID                                        0\n",
       "Vehicle Location                                      0\n",
       "Electric Utility                                      0\n",
       "2020 Census Tract                                     0\n",
       "dtype: int64"
      ]
     },
     "execution_count": 14,
     "metadata": {},
     "output_type": "execute_result"
    }
   ],
   "source": [
    "df.isna().sum()"
   ]
  },
  {
   "cell_type": "code",
   "execution_count": 21,
   "id": "40f2caa6-851f-4d09-b71f-729825feefc3",
   "metadata": {},
   "outputs": [],
   "source": [
    "for col in ['Electric Range', 'Base MSRP']:\n",
    "    median_val = df[col].median()  # Find the middle value\n",
    "    df[col] = df[col].fillna(median_val)"
   ]
  },
  {
   "cell_type": "code",
   "execution_count": 22,
   "id": "7d0d93fc-43d7-4b0c-b834-52055296d840",
   "metadata": {},
   "outputs": [
    {
     "data": {
      "text/plain": [
       "VIN (1-10)                                           0\n",
       "County                                               0\n",
       "City                                                 0\n",
       "State                                                0\n",
       "Postal Code                                          0\n",
       "Model Year                                           0\n",
       "Make                                                 0\n",
       "Model                                                0\n",
       "Electric Vehicle Type                                0\n",
       "Clean Alternative Fuel Vehicle (CAFV) Eligibility    0\n",
       "Electric Range                                       0\n",
       "Base MSRP                                            0\n",
       "DOL Vehicle ID                                       0\n",
       "Vehicle Location                                     0\n",
       "Electric Utility                                     0\n",
       "2020 Census Tract                                    0\n",
       "dtype: int64"
      ]
     },
     "execution_count": 22,
     "metadata": {},
     "output_type": "execute_result"
    }
   ],
   "source": [
    "df.isna().sum()"
   ]
  },
  {
   "cell_type": "markdown",
   "id": "36b07fb1-9cab-46ee-ab04-b6427be51718",
   "metadata": {},
   "source": [
    "# EDA\n",
    "Understand the dataset and explore the relationships between"
   ]
  },
  {
   "cell_type": "code",
   "execution_count": 23,
   "id": "5cfe5f2a-ac5b-4bb5-8e91-0e4690b8e992",
   "metadata": {},
   "outputs": [
    {
     "data": {
      "text/html": [
       "<div>\n",
       "<style scoped>\n",
       "    .dataframe tbody tr th:only-of-type {\n",
       "        vertical-align: middle;\n",
       "    }\n",
       "\n",
       "    .dataframe tbody tr th {\n",
       "        vertical-align: top;\n",
       "    }\n",
       "\n",
       "    .dataframe thead th {\n",
       "        text-align: right;\n",
       "    }\n",
       "</style>\n",
       "<table border=\"1\" class=\"dataframe\">\n",
       "  <thead>\n",
       "    <tr style=\"text-align: right;\">\n",
       "      <th></th>\n",
       "      <th>Postal Code</th>\n",
       "      <th>Model Year</th>\n",
       "      <th>Electric Range</th>\n",
       "      <th>Base MSRP</th>\n",
       "      <th>DOL Vehicle ID</th>\n",
       "      <th>2020 Census Tract</th>\n",
       "    </tr>\n",
       "  </thead>\n",
       "  <tbody>\n",
       "    <tr>\n",
       "      <th>count</th>\n",
       "      <td>235682.000000</td>\n",
       "      <td>235682.000000</td>\n",
       "      <td>235682.000000</td>\n",
       "      <td>235682.000000</td>\n",
       "      <td>2.356820e+05</td>\n",
       "      <td>2.356820e+05</td>\n",
       "    </tr>\n",
       "    <tr>\n",
       "      <th>mean</th>\n",
       "      <td>98177.642909</td>\n",
       "      <td>2021.406688</td>\n",
       "      <td>46.256239</td>\n",
       "      <td>786.954901</td>\n",
       "      <td>2.353133e+08</td>\n",
       "      <td>5.298066e+10</td>\n",
       "    </tr>\n",
       "    <tr>\n",
       "      <th>std</th>\n",
       "      <td>2524.254921</td>\n",
       "      <td>2.991910</td>\n",
       "      <td>84.042210</td>\n",
       "      <td>7176.459057</td>\n",
       "      <td>6.799190e+07</td>\n",
       "      <td>1.521088e+09</td>\n",
       "    </tr>\n",
       "    <tr>\n",
       "      <th>min</th>\n",
       "      <td>1731.000000</td>\n",
       "      <td>2000.000000</td>\n",
       "      <td>0.000000</td>\n",
       "      <td>0.000000</td>\n",
       "      <td>4.385000e+03</td>\n",
       "      <td>1.001020e+09</td>\n",
       "    </tr>\n",
       "    <tr>\n",
       "      <th>25%</th>\n",
       "      <td>98052.000000</td>\n",
       "      <td>2020.000000</td>\n",
       "      <td>0.000000</td>\n",
       "      <td>0.000000</td>\n",
       "      <td>2.053464e+08</td>\n",
       "      <td>5.303301e+10</td>\n",
       "    </tr>\n",
       "    <tr>\n",
       "      <th>50%</th>\n",
       "      <td>98126.000000</td>\n",
       "      <td>2023.000000</td>\n",
       "      <td>0.000000</td>\n",
       "      <td>0.000000</td>\n",
       "      <td>2.522804e+08</td>\n",
       "      <td>5.303303e+10</td>\n",
       "    </tr>\n",
       "    <tr>\n",
       "      <th>75%</th>\n",
       "      <td>98374.000000</td>\n",
       "      <td>2024.000000</td>\n",
       "      <td>38.000000</td>\n",
       "      <td>0.000000</td>\n",
       "      <td>2.696405e+08</td>\n",
       "      <td>5.305307e+10</td>\n",
       "    </tr>\n",
       "    <tr>\n",
       "      <th>max</th>\n",
       "      <td>99577.000000</td>\n",
       "      <td>2025.000000</td>\n",
       "      <td>337.000000</td>\n",
       "      <td>845000.000000</td>\n",
       "      <td>4.792548e+08</td>\n",
       "      <td>5.602100e+10</td>\n",
       "    </tr>\n",
       "  </tbody>\n",
       "</table>\n",
       "</div>"
      ],
      "text/plain": [
       "         Postal Code     Model Year  Electric Range      Base MSRP  \\\n",
       "count  235682.000000  235682.000000   235682.000000  235682.000000   \n",
       "mean    98177.642909    2021.406688       46.256239     786.954901   \n",
       "std      2524.254921       2.991910       84.042210    7176.459057   \n",
       "min      1731.000000    2000.000000        0.000000       0.000000   \n",
       "25%     98052.000000    2020.000000        0.000000       0.000000   \n",
       "50%     98126.000000    2023.000000        0.000000       0.000000   \n",
       "75%     98374.000000    2024.000000       38.000000       0.000000   \n",
       "max     99577.000000    2025.000000      337.000000  845000.000000   \n",
       "\n",
       "       DOL Vehicle ID  2020 Census Tract  \n",
       "count    2.356820e+05       2.356820e+05  \n",
       "mean     2.353133e+08       5.298066e+10  \n",
       "std      6.799190e+07       1.521088e+09  \n",
       "min      4.385000e+03       1.001020e+09  \n",
       "25%      2.053464e+08       5.303301e+10  \n",
       "50%      2.522804e+08       5.303303e+10  \n",
       "75%      2.696405e+08       5.305307e+10  \n",
       "max      4.792548e+08       5.602100e+10  "
      ]
     },
     "execution_count": 23,
     "metadata": {},
     "output_type": "execute_result"
    }
   ],
   "source": [
    "df.describe()"
   ]
  },
  {
   "cell_type": "code",
   "execution_count": 24,
   "id": "0116094c-67c8-4318-9670-543105ceff7a",
   "metadata": {},
   "outputs": [
    {
     "data": {
      "image/png": "[encoded data removed]",
      "text/plain": [
       "<Figure size 640x480 with 1 Axes>"
      ]
     },
     "metadata": {},
     "output_type": "display_data"
    }
   ],
   "source": [
    "sns.histplot(df['Electric Range'], kde=True)  # Histogram with KDE for distribution\n",
    "plt.show()"
   ]
  },
  {
   "cell_type": "code",
   "execution_count": 25,
   "id": "3dbadd5f-bae3-403d-bebd-4135c31c8030",
   "metadata": {},
   "outputs": [
    {
     "data": {
      "image/png": "[encoded data removed]",
      "text/plain": [
       "<Figure size 640x480 with 1 Axes>"
      ]
     },
     "metadata": {},
     "output_type": "display_data"
    }
   ],
   "source": [
    "sns.countplot(x='Electric Vehicle Type', data=df)\n",
    "plt.show()"
   ]
  },
  {
   "cell_type": "code",
   "execution_count": 26,
   "id": "6999e0d1-a248-42f9-b6d5-85c32973487b",
   "metadata": {},
   "outputs": [
    {
     "data": {
      "image/png": "[encoded data removed]",
      "text/plain": [
       "<Figure size 640x480 with 1 Axes>"
      ]
     },
     "metadata": {},
     "output_type": "display_data"
    }
   ],
   "source": [
    "sns.scatterplot(x='Electric Range', y='Base MSRP', data=df)\n",
    "plt.show()"
   ]
  },
  {
   "cell_type": "code",
   "execution_count": 27,
   "id": "c8e93e26-2177-411d-be78-adb3115bf598",
   "metadata": {},
   "outputs": [
    {
     "data": {
      "image/png": "[encoded data removed]",
      "text/plain": [
       "<Figure size 640x480 with 1 Axes>"
      ]
     },
     "metadata": {},
     "output_type": "display_data"
    }
   ],
   "source": [
    "sns.boxplot(x='Electric Vehicle Type', y='Base MSRP', data=df)\n",
    "plt.show()"
   ]
  },
  {
   "cell_type": "code",
   "execution_count": null,
   "id": "0433ccc6-360b-4a3d-978a-cd6a39e70bb6",
   "metadata": {},
   "outputs": [],
   "source": []
  }
 ],
 "metadata": {
  "kernelspec": {
   "display_name": "Python 3 (ipykernel)",
   "language": "python",
   "name": "python3"
  },
  "language_info": {
   "codemirror_mode": {
    "name": "ipython",
    "version": 3
   },
   "file_extension": ".py",
   "mimetype": "text/x-python",
   "name": "python",
   "nbconvert_exporter": "python",
   "pygments_lexer": "ipython3",
   "version": "3.12.7"
  }
 },
 "nbformat": 4,
 "nbformat_minor": 5
}
